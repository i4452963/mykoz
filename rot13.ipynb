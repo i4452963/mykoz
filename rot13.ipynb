{
 "cells": [
  {
   "cell_type": "code",
   "execution_count": 2,
   "id": "24e02106-1c77-4d3f-a198-5298be36013f",
   "metadata": {},
   "outputs": [],
   "source": [
    "import codecs\n"
   ]
  },
  {
   "cell_type": "code",
   "execution_count": null,
   "id": "b229893b-c1a6-4474-884e-a895bf14780d",
   "metadata": {},
   "outputs": [],
   "source": [
    "with open(\"id_rsa_lxdwin.pub\", \"r\") as fh:\n",
    "    data = fh.readlines()"
   ]
  },
  {
   "cell_type": "code",
   "execution_count": null,
   "id": "9b53a96c-3a10-4402-af7f-904de1147dd4",
   "metadata": {},
   "outputs": [],
   "source": [
    "with open(\"pub.txt\", \"w\") as fh:\n",
    "    lines = [codecs.encode(x, 'rot_13') for x in data]\n",
    "    fh.writelines(lines)"
   ]
  },
  {
   "cell_type": "code",
   "execution_count": 4,
   "id": "25dabd4a-08a1-4db5-a2c4-e161768635b5",
   "metadata": {
    "tags": []
   },
   "outputs": [],
   "source": [
    "with open(\"pub.txt\", \"r\") as fh:\n",
    "    data = fh.readlines()\n",
    "    lines = [codecs.encode(x, 'rot_13') for x in data]"
   ]
  },
  {
   "cell_type": "code",
   "execution_count": 7,
   "id": "d483921f-1d15-462d-906f-4e3d2fcafc43",
   "metadata": {
    "collapsed": true,
    "jupyter": {
     "outputs_hidden": true
    },
    "tags": []
   },
   "outputs": [
    {
     "name": "stdout",
     "output_type": "stream",
     "text": [
      "ssh-rsa AAAAB3NzaC1yc2EAAAADAQABAAABgQDeA7L11BG6tfQrEO3FqotL3tZth4h19chyEEHKwkvWamDXUO6Ap9/IjD2GiFn9KeZgprih2SO8QzFtWf9QByTYeLkk5HwoBmIdTerIdKR9OIV05EgXSDT6mojCd8dSHfBXHWaIoRrGZFnzpq58RlIq+H2fN/TXoCdJAehdR4Rm0eI64FAGslEjl7rWavIvm/JVmCkWjhiU3nxqABthZZKvl1t9yOsI8RNd35dxLkXkrC/eO++kGS9fvTwf6opWcystHlPupLeqdA+x9nr1pWNA/PAq8/DYL9AVGOcraQ+SoRTeWwVNa8HcH+x/o4GSF6C6jhfBQ/j1RGaAnoGPVhbeD91VnKqyRTh9USwoDHM9ps1zaC46Dx+ZbiHH4SXgeI/0vRFQSP9Fzz84c632iLfegpU3L3K248+7FddJHVbEe97yMh4vf+6Y0MsL5LF1FcuynWzRwJoOgtlbZlpONt0fyyPuj8294P0DKYSv65Kjk0Zo2srT1DJIhEwJDnDLMik= pipulate@gmail.com\n",
      "\n"
     ]
    }
   ],
   "source": [
    "print(lines[0])"
   ]
  },
  {
   "cell_type": "code",
   "execution_count": null,
   "id": "b56a03a1-04dc-462e-a081-88dee85d6210",
   "metadata": {},
   "outputs": [],
   "source": []
  }
 ],
 "metadata": {
  "kernelspec": {
   "display_name": "Python 3 (ipykernel)",
   "language": "python",
   "name": "python3"
  },
  "language_info": {
   "codemirror_mode": {
    "name": "ipython",
    "version": 3
   },
   "file_extension": ".py",
   "mimetype": "text/x-python",
   "name": "python",
   "nbconvert_exporter": "python",
   "pygments_lexer": "ipython3",
   "version": "3.10.8"
  }
 },
 "nbformat": 4,
 "nbformat_minor": 5
}

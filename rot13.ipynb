{
 "cells": [
  {
   "cell_type": "code",
   "execution_count": 1,
   "id": "24e02106-1c77-4d3f-a198-5298be36013f",
   "metadata": {},
   "outputs": [],
   "source": [
    "import codecs"
   ]
  },
  {
   "cell_type": "code",
   "execution_count": 6,
   "id": "b229893b-c1a6-4474-884e-a895bf14780d",
   "metadata": {},
   "outputs": [],
   "source": [
    "with open(\"id_rsa_drinkme\", \"r\") as fh:\n",
    "    data = fh.readlines()"
   ]
  },
  {
   "cell_type": "code",
   "execution_count": 7,
   "id": "9b53a96c-3a10-4402-af7f-904de1147dd4",
   "metadata": {},
   "outputs": [],
   "source": [
    "with open(\"priv.txt\", \"w\") as fh:\n",
    "    lines = [codecs.encode(x, 'rot_13') for x in data]\n",
    "    fh.writelines(lines)"
   ]
  },
  {
   "cell_type": "code",
   "execution_count": null,
   "id": "25dabd4a-08a1-4db5-a2c4-e161768635b5",
   "metadata": {
    "tags": []
   },
   "outputs": [],
   "source": [
    "with open(\"priv.txt\", \"r\") as fh:\n",
    "    data = fh.readlines()\n",
    "    lines = [codecs.encode(x, 'rot_13') for x in data]"
   ]
  },
  {
   "cell_type": "code",
   "execution_count": null,
   "id": "d483921f-1d15-462d-906f-4e3d2fcafc43",
   "metadata": {
    "tags": []
   },
   "outputs": [],
   "source": [
    "print(lines[0])"
   ]
  },
  {
   "cell_type": "code",
   "execution_count": null,
   "id": "b56a03a1-04dc-462e-a081-88dee85d6210",
   "metadata": {},
   "outputs": [],
   "source": []
  }
 ],
 "metadata": {
  "kernelspec": {
   "display_name": "Python 3 (ipykernel)",
   "language": "python",
   "name": "python3"
  },
  "language_info": {
   "codemirror_mode": {
    "name": "ipython",
    "version": 3
   },
   "file_extension": ".py",
   "mimetype": "text/x-python",
   "name": "python",
   "nbconvert_exporter": "python",
   "pygments_lexer": "ipython3",
   "version": "3.11.4"
  }
 },
 "nbformat": 4,
 "nbformat_minor": 5
}
